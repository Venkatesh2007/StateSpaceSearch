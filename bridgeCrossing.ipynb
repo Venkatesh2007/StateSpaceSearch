{
  "cells": [
    {
      "cell_type": "markdown",
      "metadata": {},
      "source": [
        "## State"
      ]
    },
    {
      "cell_type": "code",
      "execution_count": 8,
      "metadata": {
        "colab": {
          "base_uri": "https://localhost:8080/"
        },
        "id": "DlToApsWb0Ym",
        "outputId": "61e5e1f2-4375-4035-c301-83caa3f2e365"
      },
      "outputs": [
        {
          "name": "stdout",
          "output_type": "stream",
          "text": [
            "[1000], 5\n",
            "[1100], 10\n",
            "[1010], 20\n",
            "[1001], 25\n",
            "[0100], 10\n",
            "[0110], 20\n",
            "[0101], 25\n",
            "[0010], 20\n",
            "[0011], 25\n",
            "[0001], 25\n"
          ]
        }
      ],
      "source": [
        "class State:\n",
        "\n",
        "  def __init__(self,state,treq,time,umb):\n",
        "    self.state = state\n",
        "    self.treq = treq\n",
        "    self.time  = time\n",
        "    self.umb = umb\n",
        "\n",
        "  def goalTest(self):\n",
        "    self.goal = [1,1,1,1]\n",
        "    return self.state == self.goal\n",
        "\n",
        "\n",
        "  def moveGen(self):\n",
        "    children = []\n",
        "    for i in range(len(self.state)):\n",
        "      for j in range(i,len(self.state)):\n",
        "\n",
        "        if(i==j and self.time+self.treq[i]<=60 and self.state[i]==self.umb):\n",
        "          new_state = self.state.copy()\n",
        "          new_state[i] = 1 - self.state[i]\n",
        "          new_time = self.time+self.treq[i]\n",
        "          new_umb = 1 - self.umb\n",
        "          new_node = State(new_state,self.treq,new_time,new_umb)\n",
        "          children.append(new_node)\n",
        "\n",
        "        elif(self.state[i]==self.state[j] and self.time+max(self.treq[i],self.treq[j])<=60 and self.state[i]==self.umb):\n",
        "          new_state = self.state.copy()\n",
        "          new_state[i] = 1 - self.state[i]\n",
        "          new_state[j] = 1 - self.state[j]\n",
        "          new_umb = 1 - self.umb\n",
        "          new_time = self.time+max(self.treq[i],self.treq[j])\n",
        "          new_node = State(new_state,self.treq,new_time,new_umb)\n",
        "          children.append(new_node)\n",
        "\n",
        "    return children\n",
        "\n",
        "  def __eq__(self, other):\n",
        "    return isinstance(other, State) and self.state == other.state and self.umb == other.umb\n",
        "\n",
        "  def __hash__(self):\n",
        "      return hash((tuple(self.state), self.umb))\n",
        "\n",
        "\n",
        "  def __str__(self):\n",
        "    return f'[{\"\".join(str(x) for x in self.state)}], {self.time}'\n",
        "\n",
        "state1 = State([0,0,0,0],[5,10,20,25],0,0)\n",
        "children = state1.moveGen()\n",
        "for i in children:\n",
        "  print(i)\n"
      ]
    },
    {
      "cell_type": "markdown",
      "metadata": {},
      "source": [
        "### BFS"
      ]
    },
    {
      "cell_type": "code",
      "execution_count": 9,
      "metadata": {
        "id": "mrOE0HzcgNud"
      },
      "outputs": [],
      "source": [
        "def reconstructPath(CLOSED,node):\n",
        "  pmap = {}\n",
        "  path = []\n",
        "  while CLOSED:\n",
        "    n,parent = CLOSED.pop()\n",
        "    pmap[n] = parent\n",
        "  while node:\n",
        "    path.append(node)\n",
        "    node = pmap[node]\n",
        "  path.reverse()\n",
        "  return path\n",
        "\n",
        "\n",
        "\n",
        "def removeSeen(children,OPEN,CLOSED):\n",
        "  open_nodes = [o for o,_ in OPEN]\n",
        "  closed_nodes = [c for c,_ in CLOSED]\n",
        "  nodes = [n for n in children if n not in open_nodes and n not in closed_nodes]\n",
        "  return nodes\n",
        "\n",
        "\n",
        "def bfs(state):\n",
        "  OPEN = [(state,None)]\n",
        "  CLOSED = []\n",
        "  while OPEN:\n",
        "    n,parent = OPEN.pop(0)\n",
        "    CLOSED.append((n,parent))\n",
        "    if n.goalTest():\n",
        "      path = reconstructPath(CLOSED,n)\n",
        "      for i in path:\n",
        "        print(i)\n",
        "      print(\"------END-------\")\n",
        "      return\n",
        "    else:\n",
        "      children = n.moveGen()\n",
        "      valid_child = removeSeen(children,OPEN,CLOSED)\n",
        "      new_pairs = [(child,n) for child in valid_child]\n",
        "      OPEN = OPEN + new_pairs\n",
        "  return []"
      ]
    },
    {
      "cell_type": "code",
      "execution_count": 10,
      "metadata": {
        "colab": {
          "base_uri": "https://localhost:8080/"
        },
        "id": "odWk4ofpma5t",
        "outputId": "4302eef8-675c-4baf-c9d8-2359566e8b9d"
      },
      "outputs": [
        {
          "name": "stdout",
          "output_type": "stream",
          "text": [
            "[0000], 0\n",
            "[1100], 10\n",
            "[0100], 15\n",
            "[0111], 40\n",
            "[0011], 50\n",
            "[1111], 60\n",
            "------END-------\n"
          ]
        }
      ],
      "source": [
        "state1 = State([0,0,0,0],[5,10,20,25],0,0)\n",
        "bfs(state1)"
      ]
    },
    {
      "cell_type": "markdown",
      "metadata": {},
      "source": [
        "## DFS"
      ]
    },
    {
      "cell_type": "code",
      "execution_count": 11,
      "metadata": {
        "id": "mAN3P9Mvmn-4"
      },
      "outputs": [],
      "source": [
        "def dfs(state):\n",
        "    OPEN = [(state,None)]\n",
        "    CLOSED = []\n",
        "    while OPEN:\n",
        "        n,parent = OPEN.pop(0)\n",
        "        CLOSED.append((n,parent))\n",
        "        if n.goalTest():\n",
        "            path = reconstructPath(CLOSED,n)\n",
        "            for i in path:\n",
        "                print(i)\n",
        "            print(\"------END-------\")\n",
        "            return\n",
        "        else:\n",
        "            children = n.moveGen()\n",
        "            valid_child = removeSeen(children,OPEN,CLOSED)\n",
        "            new_pairs = [(child,n) for child in valid_child]\n",
        "            OPEN = new_pairs + OPEN\n",
        "    return []"
      ]
    },
    {
      "cell_type": "code",
      "execution_count": 12,
      "metadata": {},
      "outputs": [
        {
          "name": "stdout",
          "output_type": "stream",
          "text": [
            "[0000], 0\n",
            "[1100], 10\n",
            "[0100], 15\n",
            "[0111], 40\n",
            "[0011], 50\n",
            "[1111], 60\n",
            "------END-------\n"
          ]
        }
      ],
      "source": [
        "state1 = State([0,0,0,0],[5,10,20,25],0,0)\n",
        "dfs(state1)"
      ]
    },
    {
      "cell_type": "code",
      "execution_count": null,
      "metadata": {},
      "outputs": [],
      "source": []
    }
  ],
  "metadata": {
    "colab": {
      "provenance": []
    },
    "kernelspec": {
      "display_name": "Python 3",
      "name": "python3"
    },
    "language_info": {
      "codemirror_mode": {
        "name": "ipython",
        "version": 3
      },
      "file_extension": ".py",
      "mimetype": "text/x-python",
      "name": "python",
      "nbconvert_exporter": "python",
      "pygments_lexer": "ipython3",
      "version": "3.10.0"
    }
  },
  "nbformat": 4,
  "nbformat_minor": 0
}
